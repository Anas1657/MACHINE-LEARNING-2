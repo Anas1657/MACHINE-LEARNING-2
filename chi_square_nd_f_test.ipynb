{
  "nbformat": 4,
  "nbformat_minor": 0,
  "metadata": {
    "colab": {
      "provenance": [],
      "authorship_tag": "ABX9TyO2Lh9SiPH88Gdm7sdF25l7",
      "include_colab_link": true
    },
    "kernelspec": {
      "name": "python3",
      "display_name": "Python 3"
    },
    "language_info": {
      "name": "python"
    }
  },
  "cells": [
    {
      "cell_type": "markdown",
      "metadata": {
        "id": "view-in-github",
        "colab_type": "text"
      },
      "source": [
        "<a href=\"https://colab.research.google.com/github/Anas1657/MACHINE-LEARNING-2/blob/main/chi_square_nd_f_test.ipynb\" target=\"_parent\"><img src=\"https://colab.research.google.com/assets/colab-badge.svg\" alt=\"Open In Colab\"/></a>"
      ]
    },
    {
      "cell_type": "code",
      "execution_count": null,
      "metadata": {
        "id": "w4j5uQvqdQZy"
      },
      "outputs": [],
      "source": [
        "import numpy as np\n",
        "import scipy.stats as stat"
      ]
    },
    {
      "cell_type": "code",
      "source": [
        "#no of hours stduent stduy in hostel\n",
        "#mon,tue.wed,thu,fri,sat,sun\n",
        "expected_data=[8,6,7,9,6,9,7]\n",
        "observed_data=[7,8,6,9,9,6,7]"
      ],
      "metadata": {
        "id": "PXkGs9X4dhLb"
      },
      "execution_count": null,
      "outputs": []
    },
    {
      "cell_type": "code",
      "source": [
        "sum(expected_data),sum(observed_data)"
      ],
      "metadata": {
        "colab": {
          "base_uri": "https://localhost:8080/"
        },
        "id": "3zvBcLTod3Nv",
        "outputId": "400f357f-bf9e-47af-bd83-59054c8c2400"
      },
      "execution_count": null,
      "outputs": [
        {
          "output_type": "execute_result",
          "data": {
            "text/plain": [
              "(52, 52)"
            ]
          },
          "metadata": {},
          "execution_count": 3
        }
      ]
    },
    {
      "cell_type": "code",
      "source": [
        "#chi square goodness of fit\n",
        "chisquare_test_statistics,p_value=stat.chisquare(observed_data,expected_data)"
      ],
      "metadata": {
        "id": "saG61Z7pd8jt"
      },
      "execution_count": null,
      "outputs": []
    },
    {
      "cell_type": "code",
      "source": [
        "print(chisquare_test_statistics),print(p_value)"
      ],
      "metadata": {
        "colab": {
          "base_uri": "https://localhost:8080/"
        },
        "id": "tLbHf1NEeWrf",
        "outputId": "4d33bf46-a997-43e6-e6f8-35ce4da2c661"
      },
      "execution_count": null,
      "outputs": [
        {
          "output_type": "stream",
          "name": "stdout",
          "text": [
            "3.4345238095238093\n",
            "0.7526596580922865\n"
          ]
        },
        {
          "output_type": "execute_result",
          "data": {
            "text/plain": [
              "(None, None)"
            ]
          },
          "metadata": {},
          "execution_count": 5
        }
      ]
    },
    {
      "cell_type": "code",
      "source": [
        "# find critcal vaue\n",
        "significance=.05\n",
        "dof=len(observed_data)-1\n",
        "critical_value=stat.chi2.ppf(1-significance,dof)"
      ],
      "metadata": {
        "id": "bc7UkFjkeewr"
      },
      "execution_count": null,
      "outputs": []
    },
    {
      "cell_type": "code",
      "source": [
        "critical_value"
      ],
      "metadata": {
        "colab": {
          "base_uri": "https://localhost:8080/"
        },
        "id": "Ug6pZI2Yevo5",
        "outputId": "68f9cc6f-42e1-4745-b477-5a85cba18699"
      },
      "execution_count": null,
      "outputs": [
        {
          "output_type": "execute_result",
          "data": {
            "text/plain": [
              "12.591587243743977"
            ]
          },
          "metadata": {},
          "execution_count": 7
        }
      ]
    },
    {
      "cell_type": "code",
      "source": [
        "if chisquare_test_statistics > critical_value:\n",
        "  print(\"Reject null hypo\")\n",
        "else:\n",
        "  print(\"Accept\")"
      ],
      "metadata": {
        "colab": {
          "base_uri": "https://localhost:8080/"
        },
        "id": "kTM95QNOeymj",
        "outputId": "d9aac7d8-955b-4b9c-de2e-c7b071cf5d4b"
      },
      "execution_count": null,
      "outputs": [
        {
          "output_type": "stream",
          "name": "stdout",
          "text": [
            "Accept\n"
          ]
        }
      ]
    },
    {
      "cell_type": "markdown",
      "source": [
        "F TEST\n"
      ],
      "metadata": {
        "id": "nhguSY5wEddO"
      }
    },
    {
      "cell_type": "code",
      "source": [
        "#check who is better than another\n",
        "worker1=[18,19,22,25,27,28,41,45,51,55]\n",
        "worker2=[14,15,15,17,18,22,25,25,27,34]"
      ],
      "metadata": {
        "id": "IqSHIg5UfCLe"
      },
      "execution_count": null,
      "outputs": []
    },
    {
      "cell_type": "code",
      "source": [
        "f_test=np.var(worker1)/np.var(worker2)"
      ],
      "metadata": {
        "id": "Dj2pdd32EyQL"
      },
      "execution_count": null,
      "outputs": []
    },
    {
      "cell_type": "code",
      "source": [
        "f_test"
      ],
      "metadata": {
        "colab": {
          "base_uri": "https://localhost:8080/"
        },
        "id": "BrGvOJhNFFbX",
        "outputId": "f0efc2a3-8214-41dd-f540-07a70fb41c98"
      },
      "execution_count": null,
      "outputs": [
        {
          "output_type": "execute_result",
          "data": {
            "text/plain": [
              "4.387122002085506"
            ]
          },
          "metadata": {},
          "execution_count": 13
        }
      ]
    },
    {
      "cell_type": "code",
      "source": [
        "#DOF\n",
        "df1=len(worker1)-1\n",
        "df2=len(worker2)-1\n",
        "significance_value=.05"
      ],
      "metadata": {
        "id": "VskzTBmMFK2Z"
      },
      "execution_count": null,
      "outputs": []
    },
    {
      "cell_type": "code",
      "source": [
        "import scipy.stats as stat"
      ],
      "metadata": {
        "id": "XbHHbL9bFTMu"
      },
      "execution_count": null,
      "outputs": []
    },
    {
      "cell_type": "code",
      "source": [
        "stat.f.ppf(q=1-significance_value,dfn=df1,dfd=df2)"
      ],
      "metadata": {
        "colab": {
          "base_uri": "https://localhost:8080/"
        },
        "id": "LhyGQkKkFZQg",
        "outputId": "350aba87-795a-443d-b17e-7523f600ec34"
      },
      "execution_count": null,
      "outputs": [
        {
          "output_type": "execute_result",
          "data": {
            "text/plain": [
              "3.178893104458269"
            ]
          },
          "metadata": {},
          "execution_count": 18
        }
      ]
    },
    {
      "cell_type": "code",
      "source": [
        "if f_test>critical_value:\n",
        "  print(\"ho reject\")\n",
        "else:\n",
        "  print(\"accept\")"
      ],
      "metadata": {
        "colab": {
          "base_uri": "https://localhost:8080/"
        },
        "id": "aUuLeDbVFqpr",
        "outputId": "f9c7ee90-2f7f-4992-c410-81d1c8547adb"
      },
      "execution_count": null,
      "outputs": [
        {
          "output_type": "stream",
          "name": "stdout",
          "text": [
            "accept\n"
          ]
        }
      ]
    },
    {
      "cell_type": "code",
      "source": [],
      "metadata": {
        "id": "xENoze38F1wm"
      },
      "execution_count": null,
      "outputs": []
    }
  ]
}